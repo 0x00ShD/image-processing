{
 "cells": [
  {
   "cell_type": "code",
   "execution_count": 1,
   "metadata": {},
   "outputs": [],
   "source": [
    "import cv2\n",
    "import numpy as np\n",
    "\n",
    "# Video path\n",
    "video_path = \"F:\\Shady\\FCAI\\Fouth year\\image processing\\Project\\Project Video.mp4\"\n",
    "\n",
    "# Open the video file\n",
    "cap = cv2.VideoCapture(video_path)\n",
    "\n",
    "# Get video properties\n",
    "width = int(cap.get(3))\n",
    "height = int(cap.get(4))\n",
    "fps = cap.get(5)\n",
    "\n",
    "# Create a window to display the video\n",
    "cv2.namedWindow(\"Enhanced Video\", cv2.WINDOW_NORMAL)\n",
    "cv2.resizeWindow(\"Enhanced Video\", width, height)\n",
    "\n",
    "while cap.isOpened():\n",
    "    # Read a frame from the video\n",
    "    ret, frame = cap.read()\n",
    "\n",
    "    if not ret:\n",
    "        break\n",
    "\n",
    "    # Preprocess the frame (e.g., resizing, blurring, thresholding)\n",
    "    processed_frame = cv2.resize(frame, (width, height))  # Resize to the original size\n",
    "    processed_frame = cv2.GaussianBlur(processed_frame, (5, 5), 0)  # Apply Gaussian Blur\n",
    "    _, processed_frame = cv2.threshold(processed_frame, 127, 255, cv2.THRESH_BINARY)  # Thresholding\n",
    "\n",
    "    # Convert the frame to grayscale\n",
    "    gray_frame = cv2.cvtColor(frame, cv2.COLOR_BGR2GRAY)\n",
    "\n",
    "    # Create a mask for the subtitles (assuming white subtitles on a dark background)\n",
    "    subtitle_mask = cv2.inRange(gray_frame, 200, 255)\n",
    "\n",
    "    # Set the frame pixels outside the subtitle mask to black\n",
    "    processed_frame[np.where(subtitle_mask == 0)] = 0\n",
    "\n",
    "    # Display the enhanced frame\n",
    "    cv2.imshow(\"Enhanced Video\", processed_frame)\n",
    "\n",
    "    # Break the loop if 'q' is pressed\n",
    "    if cv2.waitKey(int(1000 / fps)) & 0xFF == ord('q'):\n",
    "        break\n",
    "\n",
    "# Release the video capture object and close the window\n",
    "cap.release()\n",
    "cv2.destroyAllWindows()\n"
   ]
  }
 ],
 "metadata": {
  "kernelspec": {
   "display_name": "Python 3",
   "language": "python",
   "name": "python3"
  },
  "language_info": {
   "codemirror_mode": {
    "name": "ipython",
    "version": 3
   },
   "file_extension": ".py",
   "mimetype": "text/x-python",
   "name": "python",
   "nbconvert_exporter": "python",
   "pygments_lexer": "ipython3",
   "version": "3.11.6"
  }
 },
 "nbformat": 4,
 "nbformat_minor": 2
}
